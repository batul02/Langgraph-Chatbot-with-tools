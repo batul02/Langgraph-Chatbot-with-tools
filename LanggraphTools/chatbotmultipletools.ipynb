{
 "cells": [
  {
   "cell_type": "code",
   "execution_count": 2,
   "metadata": {},
   "outputs": [],
   "source": [
    "## tools\n",
    "\n",
    "from langchain_community.tools import ArxivQueryRun, WikipediaQueryRun\n",
    "from langchain_community.utilities import ArxivAPIWrapper, WikipediaAPIWrapper"
   ]
  },
  {
   "cell_type": "code",
   "execution_count": null,
   "metadata": {},
   "outputs": [
    {
     "name": "stdout",
     "output_type": "stream",
     "text": [
      "arxiv\n"
     ]
    }
   ],
   "source": [
    "# created a tool\n",
    "api_wrapper_arxiv =ArxivAPIWrapper(top_k_results=2, doc_content_chars_max=500)\n",
    "arxiv = ArxivQueryRun(api_wrapper=api_wrapper_arxiv, description=\"Query Arxiv Papers\")\n",
    "print(arxiv.name)"
   ]
  },
  {
   "cell_type": "code",
   "execution_count": 4,
   "metadata": {},
   "outputs": [
    {
     "data": {
      "text/plain": [
       "\"Published: 2024-07-22\\nTitle: Attention Is All You Need But You Don't Need All Of It For Inference of Large Language Models\\nAuthors: Georgy Tyukin, Gbetondji J-S Dovonon, Jean Kaddour, Pasquale Minervini\\nSummary: The inference demand for LLMs has skyrocketed in recent months, and serving\\nmodels with low latencies remains challenging due to the quadratic input length\\ncomplexity of the attention layers. In this work, we investigate the effect of\\ndropping MLP and attention layers at inference time o\""
      ]
     },
     "execution_count": 4,
     "metadata": {},
     "output_type": "execute_result"
    }
   ],
   "source": [
    "arxiv.invoke(\"Attention is all you need\")"
   ]
  },
  {
   "cell_type": "code",
   "execution_count": 5,
   "metadata": {},
   "outputs": [
    {
     "name": "stdout",
     "output_type": "stream",
     "text": [
      "wikipedia\n"
     ]
    }
   ],
   "source": [
    "api_wrapper_wikipedia =WikipediaAPIWrapper(top_k_results=1, doc_content_chars_max=500)\n",
    "wikipedia = WikipediaQueryRun(api_wrapper=api_wrapper_wikipedia, description=\"Query Wikipedia Papers\")\n",
    "print(wikipedia.name)"
   ]
  },
  {
   "cell_type": "code",
   "execution_count": 6,
   "metadata": {},
   "outputs": [
    {
     "data": {
      "text/plain": [
       "'Published: 2011-04-21\\nTitle: Graphene quantum dots for valley-based quantum computing: A feasibility study\\nAuthors: G. Y. Wu, N. -Y. Lue, L. Chang\\nSummary: At the center of quantum computing1 realization is the physical\\nimplementation of qubits - two-state quantum information units. The rise of\\ngraphene2 has opened a new door to the implementation. Because graphene\\nelectrons simulate two-dimensional relativistic particles with two degenerate\\nand independent energy valleys,3 a novel degree of fre'"
      ]
     },
     "execution_count": 6,
     "metadata": {},
     "output_type": "execute_result"
    }
   ],
   "source": [
    "arxiv.invoke(\"What is the latest reseach on quantum computing?\")"
   ]
  },
  {
   "cell_type": "code",
   "execution_count": 8,
   "metadata": {},
   "outputs": [],
   "source": [
    "from dotenv import load_dotenv\n",
    "load_dotenv()\n",
    "\n",
    "import os\n",
    "\n",
    "os.environ[\"TAVILY_API_KEY\"] =  os.getenv(\"TAVILY_API_KEY\")\n",
    "os.environ[\"GROQ_API_KEY\"] =  os.getenv(\"GROQ_API_KEY\")"
   ]
  },
  {
   "cell_type": "code",
   "execution_count": 9,
   "metadata": {},
   "outputs": [],
   "source": [
    "from langchain_community.tools.tavily_search import TavilySearchResults\n",
    "\n",
    "tavily = TavilySearchResults()"
   ]
  },
  {
   "cell_type": "code",
   "execution_count": 10,
   "metadata": {},
   "outputs": [
    {
     "data": {
      "text/plain": [
       "[{'title': 'Artificial Intelligence News - ScienceDaily',\n",
       "  'url': 'https://www.sciencedaily.com/news/computers_math/artificial_intelligence/',\n",
       "  'content': \"Using Robots in Nursing Homes Linked to Higher Employee Retention, Better Patient Care\\n\\nMonday, January 6, 2025\\n\\nAI Slashes Cost and Time for Chip Design, but That Is Not All\\n\\nThursday, January 2, 2025\\n\\nArtificial Intelligence: Algorithms Improve Medical Image Analysis\\n\\nFriday, December 27, 2024\\n\\nCrossing the Uncanny Valley: Breakthrough in Technology for Lifelike Facial Expressions in Androids\\n\\nThursday, December 26, 2024\\n\\nWind Sensing by Biomimetic Flexible Flapping Wing With Strain Sensors [...] Tuesday, November 12, 2024\\n\\nGiving Robots Superhuman Vision Using Radio Signals\\n\\nMonday, November 11, 2024\\n\\nAI Can Detect Serious Neurologic Changes in Babies in the NICU Using Video Data Alone\\nRobot That Watched Surgery Videos Performs With Skill of Human Doctor, Researchers Report\\n\\nThursday, November 7, 2024\\n\\nRobot Learns How to Clean a Washbasin\\n\\nWednesday, November 6, 2024\\n\\nAI-Driven Mobile Robots Team Up to Tackle Chemical Synthesis\\n\\nThursday, October 31, 2024 [...] Thursday, December 19, 2024\\n\\nMachine Psychology: A Bridge to General AI?\\nLaser-Based Artificial Neuron Mimics Nerve Cell Functions at Lightning Speed\\n\\nWednesday, December 18, 2024\\n\\nSwarms of 'ant-Like' Robots Lift Heavy Objects and Hurl Themselves Over Obstacles\\n\\nTuesday, December 17, 2024\\n\\nDeveloping Artificial Intelligence Tools for Health Care\\nTiny Robots, Big Impact: Revolutionizing Infertility Treatment With Magnetic Microrobots\\n\\nMonday, December 16, 2024\",\n",
       "  'score': 0.7593865},\n",
       " {'title': 'AI News | Latest AI News, Analysis & Events',\n",
       "  'url': 'https://www.artificialintelligence-news.com/',\n",
       "  'content': 'Applications, Artificial Intelligence, Companies, DeepMind, Google, Industries\\nApril 14, 2025\\nIEA: The opportunities and challenges of AI for global energy\\nApplications, Artificial Intelligence, Energy, Ethics & Society, Industries, Research\\nApril 10, 2025\\nSpot AI introduces the world’s first universal AI agent builder for security cameras\\nApplications, Artificial Intelligence, Healthcare, Security\\nApril 10, 2025\\nDeep Learning\\nAlibaba Qwen QwQ-32B: Scaled reinforcement learning showcase [...] Marketing Tech News\\nApril 16, 2025\\nOpenAI explores social platform following $40B funding round\\n\\nAI News\\nApril 15, 2025\\nMeta will train AI models using EU user data\\n\\nDeveloper Tech News\\nApril 15, 2025\\nMasquerading payment npm package installs backdoor\\n\\nTelecoms Tech News\\nApril 15, 2025\\nFCC chair calls EU satellite strategy ‘anti-American’\\nSubscribe\\nAll our premium content and latest tech news delivered straight to your inbox\\nSubscribe\\n\\n\\n\\n\\n\\n\\n\\nExplore [...] Artificial Intelligence, Companies, Deep & Reinforcement Learning, Development\\nMarch 6, 2025\\nDeepSeek-R1 reasoning models rival OpenAI in performance\\nArtificial Intelligence, Companies, Deep & Reinforcement Learning, Development\\nJanuary 20, 2025\\nNew AI training techniques aim to overcome current challenges\\nDeep & Reinforcement Learning, Machine Learning, NVIDIA, Research\\nNovember 28, 2024',\n",
       "  'score': 0.740494},\n",
       " {'title': 'AI News & Artificial Intelligence - TechCrunch',\n",
       "  'url': 'https://techcrunch.com/category/artificial-intelligence/',\n",
       "  'content': '1 day ago\\n\\n\\n\\nAI\\nOpenAI hires team behind GV-backed AI eval platform Context.ai\\n\\nIvan Mehta\\n\\n1 day ago\\n\\n\\n\\nAI\\nAnthropic forms a new team to grow its AWS business\\n\\nKyle Wiggers\\n\\n2 days ago\\n\\n\\n\\nAI\\nAnthropic’s Claude can now read your Gmail\\n\\nMaxwell Zeff\\n\\n2 days ago\\n\\n\\n\\nAI\\nGoogle’s Veo 2 video generating model comes to Gemini\\n\\nKyle Wiggers\\n\\n2 days ago\\n\\n\\n\\nAI\\nWitness a dynamic dialogue between two visionary CEOs\\n\\nCindy Zackney\\n\\n2 days ago\\n\\n\\n\\nIn Brief [...] AI\\nGrok gains a canvas-like tool for creating docs and apps\\n\\nKyle Wiggers\\n\\n1 day ago\\n\\n\\n\\nEnterprise\\nNvidia H20 chip exports hit with license requirement by US government\\n\\nRebecca Szkutak\\n\\n1 day ago\\n\\n\\n\\nFundraising\\nTelli, a YC alum, raises pre-seed funding for its AI voice agents\\n\\nMike Butcher\\n\\n1 day ago\\n\\n\\n\\nAI\\nOpenAI may ‘adjust’ its safeguards if rivals release ‘high-risk’ AI\\n\\nKyle Wiggers\\n\\n1 day ago\\n\\n\\n\\nStartups\\nFigma sent a cease-and-desist letter to Lovable over the term ‘Dev Mode’\\n\\nJulie Bort [...] 16 hours ago\\n\\n\\n\\nGovernment & Policy\\nAMD expects $800M charge due to US’ license requirement for AI chips\\n\\nKyle Wiggers\\n\\n17 hours ago\\n\\n\\n\\nAI\\nA dev built a test to see how AI chatbots respond to controversial topics\\n\\nKyle Wiggers\\n\\n18 hours ago\\n\\n\\n\\nAI\\nHammerspace, an unstructured data wrangler used by Meta, raises $100M at $500M+ valuation\\n\\nIngrid Lunden\\n\\n19 hours ago\\n\\n\\n\\nGovernment & Policy\\nGoogle used AI to suspend over 39M ad accounts suspected of fraud\\n\\nJagmeet Singh\\n\\n20 hours ago',\n",
       "  'score': 0.7156829},\n",
       " {'title': 'Artificial intelligence - NBC News',\n",
       "  'url': 'https://www.nbcnews.com/artificial-intelligence',\n",
       "  'content': \"ARTIFICIAL INTELLIGENCE\\nThe latest news and top stories on artificial intelligence, including ChatGPT, AI Chatbot and Bard.\\n Getty Images\\nARTIFICIAL INTELLIGENCE\\n'Billionaires versus billionaires': OpenAI feud between Elon Musk, Sam Altman faces federal judge\\n SeongJoon Cho / Bloomberg via Getty Images file\\nARTIFICIAL INTELLIGENCE\\nOpenAI partners with U.S. National Laboratories on scientific research, nuclear weapons security\\nAI NEWS\",\n",
       "  'score': 0.6549173}]"
      ]
     },
     "execution_count": 10,
     "metadata": {},
     "output_type": "execute_result"
    }
   ],
   "source": [
    "tavily.invoke(\"Provide me the recent AI news?\")"
   ]
  },
  {
   "cell_type": "code",
   "execution_count": 11,
   "metadata": {},
   "outputs": [],
   "source": [
    "# combineing all the tools in the list\n",
    "\n",
    "tools = [arxiv, wikipedia, tavily]"
   ]
  },
  {
   "cell_type": "code",
   "execution_count": 14,
   "metadata": {},
   "outputs": [],
   "source": [
    "#initialize llm model\n",
    "\n",
    "from langchain_groq import ChatGroq\n",
    "\n",
    "llm=ChatGroq(model=\"qwen-qwq-32b\")"
   ]
  },
  {
   "cell_type": "code",
   "execution_count": 15,
   "metadata": {},
   "outputs": [
    {
     "data": {
      "text/plain": [
       "AIMessage(content='\\n<think>\\nOkay, the user is asking, \"What is AI?\" Let me start by breaking down the term. AI stands for Artificial Intelligence, so I should explain what that means. I need to make sure I cover the basic definition but also give some context. Maybe start with a simple explanation: AI refers to machines or software that can perform tasks that typically require human intelligence.\\n\\nWait, but what are the key aspects of AI? There\\'s machine learning, neural networks, and things like that. But the user might not know those terms, so I should explain them in simpler terms. Maybe mention that AI systems can learn from data, recognize patterns, make decisions, etc. But I should also mention the different types of AI, like narrow or general AI. Narrow AI is what we have now, like voice assistants, while general AI is more hypothetical, like human-level intelligence.\\n\\nHmm, I should also touch on how AI is used in real life. Examples like recommendation systems on Netflix, self-driving cars, or chatbots like me. That helps the user relate. But wait, is there a difference between AI and machine learning? Oh right, machine learning is a subset of AI. Maybe clarify that to avoid confusion.\\n\\nAlso, maybe mention the goals of AI: problem-solving, automation, enhancing human capabilities. But I should be careful not to get too technical. The user might be a beginner, so keeping it straightforward is key.\\n\\nWait, should I include the history briefly? Like mentioning early developments in the field, but maybe that\\'s too much. The question is straightforward, so perhaps focus on the present and main concepts.\\n\\nPotential pitfalls: Avoid confusing terms. Use analogies if possible. Maybe compare AI to human intelligence but emphasize that it\\'s artificial and not biological.\\n\\nAlso, touch on ethical considerations? Maybe a quick note about biases or ethical use since that\\'s a common concern. But the question is about what AI is, not just the ethics, so maybe a brief mention.\\n\\nStructure-wise, start with a definition, then break down key concepts, types of AI, applications, and maybe a sentence on challenges or ethics. Keep each part concise. Let me make sure the answer flows logically from simple to more detailed points without overwhelming the reader.\\n\\nWait, the user might confuse AI with robotics. Should I clarify that AI is the intelligence behind, while robotics is the physical aspect? Maybe a sentence on that. Or perhaps mention that AI can be software without a physical form.\\n\\nAlso, maybe explain that AI systems can improve over time with more data, which is the learning part. Differentiate between learning and just following programmed instructions. That\\'s important because AI isn\\'t just pre-programmed; it adapts.\\n\\nOkay, putting it all together: Start with a clear definition, mention key components like learning, reasoning, perception. Then types of AI (narrow vs. general), applications, maybe examples. Conclude with a note on current state and challenges. That should cover the essentials without getting too deep into technicalities.\\n</think>\\n\\n**Artificial Intelligence (AI)** refers to the simulation of human intelligence in machines that are programmed to think and learn like humans. These systems can perform tasks that typically require human cognition, such as **learning**, **reasoning**, **problem-solving**, **perception**, and **language understanding**. The goal of AI is to create systems that can operate autonomously or assist humans by processing vast amounts of data, identifying patterns, and making informed decisions.\\n\\n---\\n\\n### **Key Concepts**:\\n1. **Types of AI**:\\n   - **Narrow (Weak) AI**: Designed for specific tasks, like voice assistants (e.g., Siri, Alexa), recommendation systems (e.g., Netflix), or self-driving cars. This is the most common form of AI today.\\n   - **General (Strong) AI**: Hypothetical systems with human-like intelligence capable of performing *any* intellectual task. This does not yet exist and remains a long-term research goal.\\n\\n2. **How AI Works**:\\n   - **Machine Learning (ML)**: A subset of AI where systems learn from data to improve performance on a task (e.g., predicting stock prices).\\n   - **Deep Learning**: A specialized form of ML using **neural networks** inspired by the human brain, used in image recognition or natural language processing.\\n   - **Rule-Based Systems**: Follow predefined rules (e.g., early AI like chess programs).\\n\\n3. **Key Capabilities**:\\n   - **Learning**: Improving over time through experience or data.\\n   - **Adaptability**: Adjusting behavior based on new inputs.\\n   - **Decision-Making**: Choosing optimal actions to achieve goals.\\n\\n---\\n\\n### **Applications**:\\n- **Healthcare**: Diagnosing diseases, analyzing medical images, or drug discovery.\\n- **Business**: Customer service chatbots, fraud detection, and predictive analytics.\\n- **Transportation**: Autonomous vehicles and route optimization.\\n- **Entertainment**: Personalized recommendations and content creation.\\n- **Daily Life**: Voice assistants, spam filters, and smart home devices.\\n\\n---\\n\\n### **Challenges & Considerations**:\\n- **Data Dependency**: AI requires massive, high-quality data to function effectively.\\n- **Bias & Ethics**: AI can inherit biases from training data, raising concerns about fairness and privacy.\\n- **Limitations**: Narrow AI is task-specific and lacks human-like consciousness or common sense.\\n\\n---\\n\\n### **Current State**:\\nModern AI is primarily **narrow AI**, excelling in specialized tasks but not approaching human general intelligence. Ongoing research explores advancements in areas like **explainable AI** (transparency in decisions) and **ethical AI** development.\\n\\nIn summary, AI is a rapidly evolving field that empowers technology to mimic human intelligence, but it remains a tool shaped by its design and data—**not a sentient entity**.', additional_kwargs={}, response_metadata={'token_usage': {'completion_tokens': 1183, 'prompt_tokens': 14, 'total_tokens': 1197, 'completion_time': 2.8838967699999998, 'prompt_time': 0.002864695, 'queue_time': 0.252875612, 'total_time': 2.886761465}, 'model_name': 'qwen-qwq-32b', 'system_fingerprint': 'fp_a91d9c2cfb', 'finish_reason': 'stop', 'logprobs': None}, id='run-56b93fb8-0f06-416e-8096-07aef73b5f5b-0', usage_metadata={'input_tokens': 14, 'output_tokens': 1183, 'total_tokens': 1197})"
      ]
     },
     "execution_count": 15,
     "metadata": {},
     "output_type": "execute_result"
    }
   ],
   "source": [
    "llm.invoke(\"What is AI?\")"
   ]
  },
  {
   "cell_type": "code",
   "execution_count": 17,
   "metadata": {},
   "outputs": [],
   "source": [
    "llm_with_tools = llm.bind_tools(tools=tools)"
   ]
  },
  {
   "cell_type": "code",
   "execution_count": null,
   "metadata": {},
   "outputs": [
    {
     "data": {
      "text/plain": [
       "AIMessage(content='', additional_kwargs={'tool_calls': [{'id': 'call_pd7t', 'function': {'arguments': '{\"query\": \"recent news on AI\"}', 'name': 'tavily_search_results_json'}, 'type': 'function'}]}, response_metadata={'token_usage': {'completion_tokens': 159, 'prompt_tokens': 323, 'total_tokens': 482, 'completion_time': 0.391946844, 'prompt_time': 0.083832167, 'queue_time': 0.676150288, 'total_time': 0.475779011}, 'model_name': 'qwen-qwq-32b', 'system_fingerprint': 'fp_512a3da6bb', 'finish_reason': 'tool_calls', 'logprobs': None}, id='run-d7f88ba5-15cc-4638-bbb4-e7be1cfea22a-0', tool_calls=[{'name': 'tavily_search_results_json', 'args': {'query': 'recent news on AI'}, 'id': 'call_pd7t', 'type': 'tool_call'}], usage_metadata={'input_tokens': 323, 'output_tokens': 159, 'total_tokens': 482})"
      ]
     },
     "execution_count": 18,
     "metadata": {},
     "output_type": "execute_result"
    }
   ],
   "source": [
    "## Execute this call\n",
    "llm_with_tools.invoke(\"What is the recent news on AI?\")"
   ]
  },
  {
   "cell_type": "code",
   "execution_count": 19,
   "metadata": {},
   "outputs": [
    {
     "data": {
      "text/plain": [
       "AIMessage(content='', additional_kwargs={'tool_calls': [{'id': 'call_3vae', 'function': {'arguments': '{\"query\": \"quantum computing\"}', 'name': 'arxiv'}, 'type': 'function'}]}, response_metadata={'token_usage': {'completion_tokens': 178, 'prompt_tokens': 326, 'total_tokens': 504, 'completion_time': 0.431996843, 'prompt_time': 0.022817528, 'queue_time': 0.35915845900000004, 'total_time': 0.454814371}, 'model_name': 'qwen-qwq-32b', 'system_fingerprint': 'fp_3796682456', 'finish_reason': 'tool_calls', 'logprobs': None}, id='run-e8bc1059-2079-4ec0-b462-e1adcfcbd293-0', tool_calls=[{'name': 'arxiv', 'args': {'query': 'quantum computing'}, 'id': 'call_3vae', 'type': 'tool_call'}], usage_metadata={'input_tokens': 326, 'output_tokens': 178, 'total_tokens': 504})"
      ]
     },
     "execution_count": 19,
     "metadata": {},
     "output_type": "execute_result"
    }
   ],
   "source": [
    "llm_with_tools.invoke(\"What is the latest reseach on quantum computing?\")"
   ]
  },
  {
   "cell_type": "code",
   "execution_count": 20,
   "metadata": {},
   "outputs": [
    {
     "data": {
      "text/plain": [
       "AIMessage(content='', additional_kwargs={'tool_calls': [{'id': 'call_fmt0', 'function': {'arguments': '{\"query\": \"Machine Learning\"}', 'name': 'wikipedia'}, 'type': 'function'}]}, response_metadata={'token_usage': {'completion_tokens': 288, 'prompt_tokens': 320, 'total_tokens': 608, 'completion_time': 0.72537145, 'prompt_time': 0.021547593, 'queue_time': 0.245372646, 'total_time': 0.746919043}, 'model_name': 'qwen-qwq-32b', 'system_fingerprint': 'fp_fbb7e6cc39', 'finish_reason': 'tool_calls', 'logprobs': None}, id='run-c65eb453-a300-40c0-9328-ca1346c8f1be-0', tool_calls=[{'name': 'wikipedia', 'args': {'query': 'Machine Learning'}, 'id': 'call_fmt0', 'type': 'tool_call'}], usage_metadata={'input_tokens': 320, 'output_tokens': 288, 'total_tokens': 608})"
      ]
     },
     "execution_count": 20,
     "metadata": {},
     "output_type": "execute_result"
    }
   ],
   "source": [
    "llm_with_tools.invoke(\"What is machine learning?\")"
   ]
  },
  {
   "cell_type": "code",
   "execution_count": null,
   "metadata": {},
   "outputs": [],
   "source": [
    "## workflow\n",
    "from typing_extensions import TypedDict\n",
    "from langchain_core.messages import AnyMessage #can be a Human msg or AI msg\n",
    "from typing import Annotated #labeling\n",
    "from langgraph.graph.message import add_messages #Reducers in langgraph\n",
    "# reducer means, it will not over wite, but it will append\n"
   ]
  },
  {
   "cell_type": "code",
   "execution_count": 22,
   "metadata": {},
   "outputs": [],
   "source": [
    "class State(TypedDict):\n",
    "    messages: Annotated[list[AnyMessage], add_messages]\n",
    "    # tools: list[Annotated[AnyMessage, \"tools\"]]\n",
    "    # tools_results: list[Annotated[AnyMessage, \"tools_results\"]]"
   ]
  },
  {
   "cell_type": "code",
   "execution_count": 23,
   "metadata": {},
   "outputs": [],
   "source": [
    "from IPython.display import Image, display\n",
    "from langgraph.graph import StateGraph, START, END\n",
    "from langgraph.prebuilt import ToolNode, tools_condition\n"
   ]
  },
  {
   "cell_type": "code",
   "execution_count": 25,
   "metadata": {},
   "outputs": [
    {
     "data": {
      "image/png": "[encoded data removed]",
      "text/plain": [
       "<IPython.core.display.Image object>"
      ]
     },
     "metadata": {},
     "output_type": "display_data"
    }
   ],
   "source": [
    "## node definantion\n",
    "def tool_calling_llm(state: State):\n",
    "    return {\"messages\": [llm_with_tools.invoke(state[\"messages\"])]}\n",
    "\n",
    "#build graph\n",
    "builder = StateGraph(State)\n",
    "builder.add_node(\"tool_calling_llm\", tool_calling_llm)\n",
    "builder.add_node(\"tools\", ToolNode(tools))\n",
    "\n",
    "## add edges\n",
    "builder.add_edge(START, \"tool_calling_llm\")\n",
    "builder.add_conditional_edges(\"tool_calling_llm\", tools_condition)\n",
    "builder.add_edge(\"tools\", END)\n",
    "\n",
    "graph = builder.compile()\n",
    "\n",
    "display(Image(graph.get_graph().draw_mermaid_png()))"
   ]
  },
  {
   "cell_type": "code",
   "execution_count": 27,
   "metadata": {},
   "outputs": [
    {
     "name": "stdout",
     "output_type": "stream",
     "text": [
      "================================\u001b[1m Human Message \u001b[0m=================================\n",
      "\n",
      "1706.03762\n",
      "==================================\u001b[1m Ai Message \u001b[0m==================================\n",
      "Tool Calls:\n",
      "  arxiv (call_db56)\n",
      " Call ID: call_db56\n",
      "  Args:\n",
      "    query: 1706.03762\n",
      "=================================\u001b[1m Tool Message \u001b[0m=================================\n",
      "Name: arxiv\n",
      "\n",
      "Published: 2023-08-02\n",
      "Title: Attention Is All You Need\n",
      "Authors: Ashish Vaswani, Noam Shazeer, Niki Parmar, Jakob Uszkoreit, Llion Jones, Aidan N. Gomez, Lukasz Kaiser, Illia Polosukhin\n",
      "Summary: The dominant sequence transduction models are based on complex recurrent or\n",
      "convolutional neural networks in an encoder-decoder configuration. The best\n",
      "performing models also connect the encoder and decoder through an attention\n",
      "mechanism. We propose a new simple network architecture, the Transformer, base\n"
     ]
    }
   ],
   "source": [
    "messages = graph.invoke({\"messages\": \"1706.03762\"})\n",
    "for m in messages[\"messages\"]:\n",
    "    m.pretty_print()"
   ]
  },
  {
   "cell_type": "code",
   "execution_count": 28,
   "metadata": {},
   "outputs": [
    {
     "name": "stdout",
     "output_type": "stream",
     "text": [
      "================================\u001b[1m Human Message \u001b[0m=================================\n",
      "\n",
      "Hi my name id Batul\n",
      "==================================\u001b[1m Ai Message \u001b[0m==================================\n",
      "\n",
      "Hello Batul! Nice to meet you. How can I assist you today? Feel free to ask me any questions or let me know if you need help with anything specific!\n"
     ]
    }
   ],
   "source": [
    "messages = graph.invoke({\"messages\": \"Hi my name id Batul\"})\n",
    "for m in messages[\"messages\"]:\n",
    "    m.pretty_print()"
   ]
  },
  {
   "cell_type": "code",
   "execution_count": null,
   "metadata": {},
   "outputs": [],
   "source": []
  },
  {
   "cell_type": "code",
   "execution_count": null,
   "metadata": {},
   "outputs": [],
   "source": []
  },
  {
   "cell_type": "code",
   "execution_count": 29,
   "metadata": {},
   "outputs": [
    {
     "data": {
      "image/png": "[encoded data removed]",
      "text/plain": [
       "<IPython.core.display.Image object>"
      ]
     },
     "metadata": {},
     "output_type": "display_data"
    }
   ],
   "source": [
    "## node definantion\n",
    "def tool_calling_llm(state: State):\n",
    "    return {\"messages\": [llm_with_tools.invoke(state[\"messages\"])]}\n",
    "\n",
    "#build graph\n",
    "builder = StateGraph(State)\n",
    "builder.add_node(\"tool_calling_llm\", tool_calling_llm)\n",
    "builder.add_node(\"tools\", ToolNode(tools))\n",
    "\n",
    "## add edges\n",
    "builder.add_edge(START, \"tool_calling_llm\")\n",
    "builder.add_conditional_edges(\"tool_calling_llm\", tools_condition)\n",
    "builder.add_edge(\"tools\", \"tool_calling_llm\")\n",
    "\n",
    "graph = builder.compile()\n",
    "\n",
    "display(Image(graph.get_graph().draw_mermaid_png()))"
   ]
  },
  {
   "cell_type": "code",
   "execution_count": 32,
   "metadata": {},
   "outputs": [
    {
     "name": "stdout",
     "output_type": "stream",
     "text": [
      "================================\u001b[1m Human Message \u001b[0m=================================\n",
      "\n",
      "What is the recent AI news and please tell me recent paper on Qunatum Computing\n",
      "==================================\u001b[1m Ai Message \u001b[0m==================================\n",
      "Tool Calls:\n",
      "  tavily_search_results_json (call_rma5)\n",
      " Call ID: call_rma5\n",
      "  Args:\n",
      "    query: recent AI news\n",
      "  arxiv (call_60ev)\n",
      " Call ID: call_60ev\n",
      "  Args:\n",
      "    query: Quantum Computing\n",
      "=================================\u001b[1m Tool Message \u001b[0m=================================\n",
      "Name: tavily_search_results_json\n",
      "\n",
      "[{\"title\": \"AI News | Latest AI News, Analysis & Events\", \"url\": \"https://www.artificialintelligence-news.com/\", \"content\": \"Marketing Tech News\\nApril 16, 2025\\nOpenAI explores social platform following $40B funding round\\n\\nAI News\\nApril 15, 2025\\nMeta will train AI models using EU user data\\n\\nDeveloper Tech News\\nApril 15, 2025\\nMasquerading payment npm package installs backdoor\\n\\nTelecoms Tech News\\nApril 15, 2025\\nFCC chair calls EU satellite strategy ‘anti-American’\\nSubscribe\\nAll our premium content and latest tech news delivered straight to your inbox\\nSubscribe\\n\\n\\n\\n\\n\\n\\n\\nExplore [...] Artificial Intelligence, Companies, Deep & Reinforcement Learning, Development\\nMarch 6, 2025\\nDeepSeek-R1 reasoning models rival OpenAI in performance\\nArtificial Intelligence, Companies, Deep & Reinforcement Learning, Development\\nJanuary 20, 2025\\nNew AI training techniques aim to overcome current challenges\\nDeep & Reinforcement Learning, Machine Learning, NVIDIA, Research\\nNovember 28, 2024 [...] Applications, Artificial Intelligence, Companies, DeepMind, Google, Industries\\nApril 14, 2025\\nIEA: The opportunities and challenges of AI for global energy\\nApplications, Artificial Intelligence, Energy, Ethics & Society, Industries, Research\\nApril 10, 2025\\nSpot AI introduces the world’s first universal AI agent builder for security cameras\\nApplications, Artificial Intelligence, Healthcare, Security\\nApril 10, 2025\\nDeep Learning\\nAlibaba Qwen QwQ-32B: Scaled reinforcement learning showcase\", \"score\": 0.81025416}, {\"title\": \"AI News & Artificial Intelligence | TechCrunch\", \"url\": \"https://techcrunch.com/category/artificial-intelligence/\", \"content\": \"1 day ago\\n\\n\\n\\nAI\\nOpenAI hires team behind GV-backed AI eval platform Context.ai\\n\\nIvan Mehta\\n\\n1 day ago\\n\\n\\n\\nAI\\nAnthropic forms a new team to grow its AWS business\\n\\nKyle Wiggers\\n\\n2 days ago\\n\\n\\n\\nAI\\nAnthropic’s Claude can now read your Gmail\\n\\nMaxwell Zeff\\n\\n2 days ago\\n\\n\\n\\nAI\\nGoogle’s Veo 2 video generating model comes to Gemini\\n\\nKyle Wiggers\\n\\n2 days ago\\n\\n\\n\\nAI\\nWitness a dynamic dialogue between two visionary CEOs\\n\\nCindy Zackney\\n\\n2 days ago\\n\\n\\n\\nIn Brief [...] Headlines Only\\nLoad More\\n\\n\\n\\nAI\\nxAI adds a ‘memory’ feature to Grok\\n\\nKyle Wiggers\\n\\n4 hours ago\\n\\n\\n\\nIn Brief\\n\\nTrump administration reportedly considers a US DeepSeek ban\\n\\nMaxwell Zeff\\n\\n7 hours ago\\n\\n\\n\\nAI\\nOpenAI’s latest AI models have a new safeguard to prevent biorisks\\n\\nMaxwell Zeff\\n\\n9 hours ago\\n\\n\\n\\nAI\\nOpenAI is reportedly in talks to buy Windsurf for $3B, with news expected later this week\\n\\nMarina Temkin\\n\\n10 hours ago [...] 16 hours ago\\n\\n\\n\\nGovernment & Policy\\nAMD expects $800M charge due to US’ license requirement for AI chips\\n\\nKyle Wiggers\\n\\n17 hours ago\\n\\n\\n\\nAI\\nA dev built a test to see how AI chatbots respond to controversial topics\\n\\nKyle Wiggers\\n\\n18 hours ago\\n\\n\\n\\nAI\\nHammerspace, an unstructured data wrangler used by Meta, raises $100M at $500M+ valuation\\n\\nIngrid Lunden\\n\\n19 hours ago\\n\\n\\n\\nGovernment & Policy\\nGoogle used AI to suspend over 39M ad accounts suspected of fraud\\n\\nJagmeet Singh\\n\\n20 hours ago\", \"score\": 0.7636429}, {\"title\": \"Artificial intelligence - NBC News\", \"url\": \"https://www.nbcnews.com/artificial-intelligence\", \"content\": \"ARTIFICIAL INTELLIGENCE\\nThe latest news and top stories on artificial intelligence, including ChatGPT, AI Chatbot and Bard.\\n Getty Images\\nARTIFICIAL INTELLIGENCE\\n'Billionaires versus billionaires': OpenAI feud between Elon Musk, Sam Altman faces federal judge\\n SeongJoon Cho / Bloomberg via Getty Images file\\nARTIFICIAL INTELLIGENCE\\nOpenAI partners with U.S. National Laboratories on scientific research, nuclear weapons security\\nAI NEWS [...] TOP VIDEO\\n 03:36 -----\\nAI startup DeepSeek causes buzz in China but draws global scrutiny over censorship and security\\nNBC News NOW\\n 02:03 -----\\nA.I. leaders say China may have copied U.S. technology\\nNightly News\\n 08:23 -----\\nNew Chinese A.I. tool 'DeepSeek' competes with American models\\nNBC News NOW\\n 01:09 -----\\nChinese A.I. app shakes up Silicon Valley, causing Wall Street selloff\\nNightly News\\n 02:43 -----\\nFast food goes high tech with new A.I. drive-thrus\\nNightly News\\n 03:50 ----- [...] Oscar front-runner ‘The Brutalist’ faces controversy of AI enhancements\\nNBC News NOW\\n 03:11 -----\\nTrump announces 'Stargate' AI infrastructure project with 'colossal data centers'\\nNBC News NOW\\n 01:29 -----\\nApple is poised to become the first publicly traded company worth four trillion dollars\\nNightly News\\n 02:28 -----\\nA.I. Revolution: How artificial intelligence is helping children with dyslexia\\nNightly News\\n 05:48 -----\\nDoctors seek help from AI in medical diagnosis\\nNBC News NOW\\n 02:59 -----\", \"score\": 0.7500592}, {\"title\": \"Artificial Intelligence - Latest AI News and Analysis - WSJ.com\", \"url\": \"https://www.wsj.com/tech/ai\", \"content\": \"McDonald’s Gives Its Restaurants an AI Makeover\\nThe fast-food giant’s new initiative uses artificial intelligence to target order accuracy and help restaurants detect equipment issues before they fail.\\nBy\\nIsabelle Bousquetteand\\nBelle Lin\\n4 min read\\n\\nBeijing Ramps Up Efforts For Tech Independence\\nIn a speech to the country’s lawmakers, Chinese Premier Li Qiang said AI would be key to boosting China’s digital economy.\\nBy\\nRaffaele Huang\\n1 min read [...] This Scientist Left OpenAI Last Year. His Startup Is Already Worth $30 Billion.\\n5 min read\\n\\nTrump, Chip Maker TSMC Announce $100 Billion Investment in U.S.\\n4 min read\\n\\nA Disney Worker Downloaded an AI Tool. It Led to a Hack That Ruined His Life.\\n6 min read\\n\\nLarry Ellison’s Half-Billion-Dollar Quest to Change Farming Has Been a Bust\\nLong read\\n\\nChinese Buyers Are Ordering Nvidia’s Newest AI Chips, Defying U.S. Curbs\\n5 min read\\nAdvertisement\\n\\nRelated Opinion\\nOPINION\", \"score\": 0.6612456}, {\"title\": \"Artificial Intelligence | Latest News, Photos & Videos - WIRED\", \"url\": \"https://www.wired.com/tag/artificial-intelligence/\", \"content\": \"### DeepSeek’s Safety Guardrails Failed Every Test Researchers Threw at Its AI Chatbot\\nBy Matt Burgess and Lily Hay Newman\\nBusiness\\n### DeepSeek Has Gotten OpenAI Fired Up\\nBy Zoë Schiffer\\nGear\\n### Your Pizza Guy Is Now AI\\nBy Julian Chokkattu\\nSecurity\\n### Exposed DeepSeek Database Revealed Chat Prompts and Internal Data\\nBy Lily Hay Newman and Matt Burgess\\nBusiness\\n### DeepSeek’s New AI Model Sparks Shock, Awe, and Questions From US Competitors\\nBy Will Knight\\nGear\", \"score\": 0.6391287}]\n",
      "=================================\u001b[1m Tool Message \u001b[0m=================================\n",
      "Name: arxiv\n",
      "\n",
      "Published: 2022-08-01\n",
      "Title: The Rise of Quantum Internet Computing\n",
      "Authors: Seng W. Loke\n",
      "Summary: This article highlights quantum Internet computing as referring to\n",
      "distributed quantum computing over the quantum Internet, analogous to\n",
      "(classical) Internet computing involving (classical) distributed computing over\n",
      "the (classical) Internet. Relevant to quantum Internet computing would be areas\n",
      "of study such as quantum protocols for distributed nodes using quantum\n",
      "information for computations, qua\n",
      "==================================\u001b[1m Ai Message \u001b[0m==================================\n",
      "\n",
      "**Recent AI News Highlights:**\n",
      "\n",
      "1. **OpenAI's New Safeguards for AI Models**  \n",
      "   - OpenAI introduced safeguards to prevent biorisks in its latest models, addressing ethical concerns (per NBC News and Tavaly results).  \n",
      "\n",
      "2. **Meta's Use of EU User Data**  \n",
      "   - Meta announced plans to train AI models using EU user data, raising privacy and regulatory questions (reported in TechCrunch and Artificial Intelligence News).  \n",
      "\n",
      "3. **China's Push in AI and Chip Imports**  \n",
      "   - Despite U.S. export restrictions, Chinese buyers are acquiring advanced AI chips, highlighting geopolitical tensions in tech (WSJ).  \n",
      "\n",
      "4. **DeepSeek Controversy**  \n",
      "   - Chinese AI startup DeepSeek sparked scrutiny over censorship and security, with its models outperforming U.S. competitors (Wired and NBC News).  \n",
      "\n",
      "---\n",
      "\n",
      "**Recent Quantum Computing Paper (ArXiv Search):**  \n",
      "The most recent paper found is:  \n",
      "- **Title:** \"The Rise of Quantum Internet Computing\" (Published: August 2022)  \n",
      "- **Authors:** Seng W. Loke  \n",
      "- **Summary:** Discusses quantum distributed computing over a quantum internet, focusing on protocols for nodes to share quantum information securely.  \n",
      "\n",
      "**Note:** This paper is from 2022. For a more recent one, consider refining the search terms (e.g., \"Quantum Computing 2023-2024\") or checking other platforms like [arXiv's Quantum Physics section](https://arxiv.org/list/quant-ph/new).  \n",
      "\n",
      "Let me know if you'd like further details or adjustments!\n"
     ]
    }
   ],
   "source": [
    "messages = graph.invoke({\"messages\": \"What is the recent AI news and please tell me recent paper on Qunatum Computing\"})\n",
    "for m in messages[\"messages\"]:\n",
    "    m.pretty_print()"
   ]
  },
  {
   "cell_type": "code",
   "execution_count": null,
   "metadata": {},
   "outputs": [],
   "source": []
  }
 ],
 "metadata": {
  "kernelspec": {
   "display_name": "venv",
   "language": "python",
   "name": "python3"
  },
  "language_info": {
   "codemirror_mode": {
    "name": "ipython",
    "version": 3
   },
   "file_extension": ".py",
   "mimetype": "text/x-python",
   "name": "python",
   "nbconvert_exporter": "python",
   "pygments_lexer": "ipython3",
   "version": "3.12.4"
  }
 },
 "nbformat": 4,
 "nbformat_minor": 2
}
